{
 "cells": [
  {
   "cell_type": "markdown",
   "id": "10b943ff",
   "metadata": {},
   "source": [
    "## **For Developer Only**"
   ]
  },
  {
   "cell_type": "code",
   "execution_count": 1,
   "id": "e178185a",
   "metadata": {},
   "outputs": [
    {
     "name": "stdout",
     "output_type": "stream",
     "text": [
      "/home/dev/Desktop/Expensilo/backend\n"
     ]
    }
   ],
   "source": [
    "%cd .."
   ]
  },
  {
   "cell_type": "code",
   "execution_count": 6,
   "id": "82f46f5f",
   "metadata": {},
   "outputs": [],
   "source": [
    "from db.db_setup import (\n",
    "    SessionLocal,\n",
    "    get_db,\n",
    "    init_db,\n",
    "    drop_db,\n",
    "    Base\n",
    ")"
   ]
  },
  {
   "cell_type": "code",
   "execution_count": 4,
   "id": "4247cabc",
   "metadata": {},
   "outputs": [],
   "source": [
    "drop_db()"
   ]
  },
  {
   "cell_type": "code",
   "execution_count": 4,
   "id": "fadb039b",
   "metadata": {},
   "outputs": [],
   "source": [
    "init_db()"
   ]
  },
  {
   "cell_type": "code",
   "execution_count": 5,
   "id": "f0aea3c5",
   "metadata": {},
   "outputs": [],
   "source": [
    "from schemas.user import UserCreate"
   ]
  },
  {
   "cell_type": "code",
   "execution_count": 7,
   "id": "d548e265",
   "metadata": {},
   "outputs": [],
   "source": [
    "from services.user_transaction import read_user_transactions\n",
    "\n",
    "session = SessionLocal()\n",
    "\n",
    "transactions = read_user_transactions(db=session,user_id=1)"
   ]
  },
  {
   "cell_type": "code",
   "execution_count": null,
   "id": "c695b897",
   "metadata": {},
   "outputs": [
    {
     "name": "stdout",
     "output_type": "stream",
     "text": [
      "{'transactions': [{'amount': Decimal('10000.00'), 'details': None, 'attachments': None, 'category': 'Salary', 'type': <TransactionType.INCOME: 'INCOME'>, 'title': 'Work', 'id': 5, 'user_id': 1, 'created_at': datetime.datetime(2025, 10, 15, 11, 48, 59, 393670, tzinfo=datetime.timezone(datetime.timedelta(days=-1, seconds=72000))), 'updated_at': datetime.datetime(2025, 10, 15, 11, 48, 59, 393670, tzinfo=datetime.timezone(datetime.timedelta(days=-1, seconds=72000)))}, {'amount': Decimal('3000.00'), 'details': None, 'attachments': None, 'category': 'Food', 'type': <TransactionType.EXPENSE: 'EXPENSE'>, 'title': 'Hoachi', 'id': 6, 'user_id': 1, 'created_at': datetime.datetime(2025, 10, 15, 11, 49, 14, 951417, tzinfo=datetime.timezone(datetime.timedelta(days=-1, seconds=72000))), 'updated_at': datetime.datetime(2025, 10, 15, 11, 49, 14, 951417, tzinfo=datetime.timezone(datetime.timedelta(days=-1, seconds=72000)))}, {'amount': Decimal('300000.00'), 'details': None, 'attachments': None, 'category': 'Transport', 'type': <TransactionType.EXPENSE: 'EXPENSE'>, 'title': 'Car', 'id': 7, 'user_id': 1, 'created_at': datetime.datetime(2025, 10, 15, 11, 53, 12, 736118, tzinfo=datetime.timezone(datetime.timedelta(days=-1, seconds=72000))), 'updated_at': datetime.datetime(2025, 10, 15, 11, 53, 12, 736118, tzinfo=datetime.timezone(datetime.timedelta(days=-1, seconds=72000)))}, {'amount': Decimal('2000.00'), 'details': None, 'attachments': None, 'category': 'Food', 'type': <TransactionType.EXPENSE: 'EXPENSE'>, 'title': 'Kitchen Cuisune', 'id': 8, 'user_id': 1, 'created_at': datetime.datetime(2025, 10, 15, 12, 3, 54, 358263, tzinfo=datetime.timezone(datetime.timedelta(days=-1, seconds=72000))), 'updated_at': datetime.datetime(2025, 10, 15, 12, 3, 54, 358263, tzinfo=datetime.timezone(datetime.timedelta(days=-1, seconds=72000)))}, {'amount': Decimal('2000.00'), 'details': 'I love spending time at Beans, sipping on a freshly brewed cup of coffee and relaxing in its cozy atmosphere. It’s my go-to spot for a good caffeine boost and a calm break.', 'attachments': None, 'category': 'Beverages', 'type': <TransactionType.EXPENSE: 'EXPENSE'>, 'title': 'Coffee Beans', 'id': 9, 'user_id': 1, 'created_at': datetime.datetime(2025, 10, 15, 12, 4, 56, 664883, tzinfo=datetime.timezone(datetime.timedelta(days=-1, seconds=72000))), 'updated_at': datetime.datetime(2025, 10, 15, 12, 4, 56, 664883, tzinfo=datetime.timezone(datetime.timedelta(days=-1, seconds=72000)))}, {'amount': Decimal('5000.00'), 'details': None, 'attachments': None, 'category': 'Salary', 'type': <TransactionType.INCOME: 'INCOME'>, 'title': 'Lotus', 'id': 10, 'user_id': 1, 'created_at': datetime.datetime(2025, 10, 15, 14, 21, 12, 912108, tzinfo=datetime.timezone(datetime.timedelta(days=-1, seconds=72000))), 'updated_at': datetime.datetime(2025, 10, 15, 14, 21, 12, 912108, tzinfo=datetime.timezone(datetime.timedelta(days=-1, seconds=72000)))}, {'amount': Decimal('120000.00'), 'details': None, 'attachments': None, 'category': 'Salary', 'type': <TransactionType.INCOME: 'INCOME'>, 'title': 'Salary of June', 'id': 11, 'user_id': 1, 'created_at': datetime.datetime(2025, 10, 15, 18, 20, 43, 863105, tzinfo=datetime.timezone(datetime.timedelta(days=-1, seconds=72000))), 'updated_at': datetime.datetime(2025, 10, 15, 18, 20, 43, 863105, tzinfo=datetime.timezone(datetime.timedelta(days=-1, seconds=72000)))}, {'amount': Decimal('10000.00'), 'details': None, 'attachments': None, 'category': 'Salary Compensation', 'type': <TransactionType.INCOME: 'INCOME'>, 'title': 'Salary of Compensation', 'id': 12, 'user_id': 1, 'created_at': datetime.datetime(2025, 10, 15, 18, 21, 22, 108698, tzinfo=datetime.timezone(datetime.timedelta(days=-1, seconds=72000))), 'updated_at': datetime.datetime(2025, 10, 15, 18, 21, 22, 108698, tzinfo=datetime.timezone(datetime.timedelta(days=-1, seconds=72000)))}, {'amount': Decimal('40000.00'), 'details': None, 'attachments': None, 'category': 'Cat 1', 'type': <TransactionType.INCOME: 'INCOME'>, 'title': 'Test 1', 'id': 13, 'user_id': 1, 'created_at': datetime.datetime(2025, 10, 15, 18, 35, 35, 132636, tzinfo=datetime.timezone(datetime.timedelta(days=-1, seconds=72000))), 'updated_at': datetime.datetime(2025, 10, 15, 18, 35, 35, 132636, tzinfo=datetime.timezone(datetime.timedelta(days=-1, seconds=72000)))}]}\n"
     ]
    }
   ],
   "source": [
    "print(transactions.model_dump())"
   ]
  },
  {
   "cell_type": "code",
   "execution_count": null,
   "id": "48007003",
   "metadata": {},
   "outputs": [],
   "source": [
    "import os\n",
    "import csv\n",
    "from decimal import Decimal\n",
    "from datetime import datetime\n",
    "\n",
    "def generateCSV(transactions_data):\n",
    "    folder_path = \"/temp\"\n",
    "\n",
    "    folder_path = os.path.join(os.path.expanduser(\"~\"), \"temp\")\n",
    "    os.makedirs(folder_path, exist_ok=True)\n",
    "\n",
    "    file_path = os.path.join(folder_path, \"transactions.csv\")\n",
    "\n",
    "    transactions = transactions_data.get('transactions', [])\n",
    "\n",
    "    \n",
    "    # Define CSV headers\n",
    "    headers = [\"Type\", \"Title\", \"Amount\", \"Category\", \"Date\"]\n",
    "    \n",
    "    with open(file_path, mode='w', newline='', encoding='utf-8') as file:\n",
    "        writer = csv.writer(file)\n",
    "        writer.writerow(headers)\n",
    "        \n",
    "        for txn in transactions:\n",
    "            txn_type = txn['type'].value\n",
    "            title = txn['title']\n",
    "            amount = float(txn['amount']) if isinstance(txn['amount'], Decimal) else txn['amount']\n",
    "            category = txn['category']\n",
    "            date = txn['created_at'].strftime(\"%Y-%m-%d %H:%M:%S\") if isinstance(txn['created_at'], datetime) else txn['created_at']\n",
    "            \n",
    "            writer.writerow([txn_type, title, amount, category, date])\n",
    "\n",
    "    print(f\"CSV file generated successfully.\")\n"
   ]
  },
  {
   "cell_type": "code",
   "execution_count": null,
   "id": "beb3247c",
   "metadata": {},
   "outputs": [],
   "source": [
    "import os\n",
    "import csv\n",
    "from decimal import Decimal\n",
    "from datetime import datetime\n",
    "\n",
    "def generateCSV(transactions_data):\n",
    "    folder_path = os.path.join(os.getcwd(), \"temp\")\n",
    "    os.makedirs(folder_path, exist_ok=True)\n",
    "    \n",
    "    file_path = os.path.join(folder_path, \"transactions.csv\")\n",
    "    \n",
    "    transactions = transactions_data.get('transactions', [])\n",
    "    headers = [\"Type\", \"Title\", \"Amount\", \"Category\", \"Date\"]\n",
    "    \n",
    "    with open(file_path, mode='w', newline='', encoding='utf-8') as file:\n",
    "        writer = csv.writer(file)\n",
    "        writer.writerow(headers)\n",
    "        \n",
    "        for txn in transactions:\n",
    "            txn_type = txn['type'].value\n",
    "            title = txn['title']\n",
    "            amount = float(txn['amount']) if isinstance(txn['amount'], Decimal) else txn['amount']\n",
    "            category = txn['category']\n",
    "            date = txn['created_at'].strftime(\"%Y-%m-%d %H:%M:%S\") if isinstance(txn['created_at'], datetime) else txn['created_at']\n",
    "            \n",
    "            writer.writerow([txn_type, title, amount, category, date])\n",
    "    \n",
    "    print(f\"CSV file saved at: {file_path}\")\n"
   ]
  },
  {
   "cell_type": "code",
   "execution_count": 19,
   "id": "daecd66e",
   "metadata": {},
   "outputs": [
    {
     "name": "stdout",
     "output_type": "stream",
     "text": [
      "CSV file saved at: /home/dev/Desktop/Expensilo/backend/temp/transactions.csv\n"
     ]
    }
   ],
   "source": [
    "generateCSV(transactions.model_dump())\n"
   ]
  },
  {
   "cell_type": "code",
   "execution_count": 7,
   "id": "4b0e939d",
   "metadata": {},
   "outputs": [],
   "source": [
    "test_users = [\n",
    "    UserCreate(\n",
    "        name=\"Alice Example\",\n",
    "        email=\"alice@example.com\",\n",
    "        password=\"alice123\",\n",
    "        google_auth=None,\n",
    "        preferences={\"theme\": \"dark\", \"notifications\": True},\n",
    "    ),\n",
    "    UserCreate(\n",
    "        name=\"Bob Tester\",\n",
    "        email=\"alice@example.com\",\n",
    "        password=\"bobPass456\",\n",
    "        google_auth=\"ya29.A0AVA9y1BobToken...\",\n",
    "        preferences={\"theme\": \"light\", \"notifications\": False},\n",
    "    ),\n",
    "    UserCreate(\n",
    "        name=\"Charlie Dev\",\n",
    "        email=\"charlie@devmail.com\",\n",
    "        password=None,  # Using Google auth only\n",
    "        google_auth=\"ya29.A0AVA9y1CharlieToken...\",\n",
    "        preferences={\"language\": \"en\", \"timezone\": \"UTC\"},\n",
    "    ),\n",
    "    UserCreate(\n",
    "        name=\"Dana Smith\",\n",
    "        email=\"dana.smith@example.org\",\n",
    "        password=\"danaSecure789\",\n",
    "        google_auth=None,\n",
    "        preferences={\"theme\": \"dark\", \"font_size\": \"large\"},\n",
    "    ),\n",
    "    UserCreate(\n",
    "        name=\"Evan Johnson\",\n",
    "        email=\"evan.johnson@testmail.com\",\n",
    "        password=\"evanPass321\",\n",
    "        google_auth=None,\n",
    "        preferences={\"beta_features\": True, \"notifications\": True},\n",
    "    ),\n",
    "]"
   ]
  },
  {
   "cell_type": "code",
   "execution_count": null,
   "id": "b2a2841b",
   "metadata": {},
   "outputs": [],
   "source": [
    "[\n",
    "    {\n",
    "        \"amount\": \"10000.00\",\n",
    "        \"details\": null,\n",
    "        \"attachments\": null,\n",
    "        \"category\": \"Salary\",\n",
    "        \"type\": \"INCOME\",\n",
    "        \"title\": \"Work\",\n",
    "        \"id\": 5,\n",
    "        \"user_id\": 1,\n",
    "        \"created_at\": \"2025-10-15T11:48:59.393670-04:00\",\n",
    "        \"updated_at\": \"2025-10-15T11:48:59.393670-04:00\"\n",
    "    },\n",
    "    {\n",
    "        \"amount\": \"3000.00\",\n",
    "        \"details\": null,\n",
    "        \"attachments\": null,\n",
    "        \"category\": \"Food\",\n",
    "        \"type\": \"EXPENSE\",\n",
    "        \"title\": \"Hoachi\",\n",
    "        \"id\": 6,\n",
    "        \"user_id\": 1,\n",
    "        \"created_at\": \"2025-10-15T11:49:14.951417-04:00\",\n",
    "        \"updated_at\": \"2025-10-15T11:49:14.951417-04:00\"\n",
    "    },\n",
    "    {\n",
    "        \"amount\": \"300000.00\",\n",
    "        \"details\": null,\n",
    "        \"attachments\": null,\n",
    "        \"category\": \"Transport\",\n",
    "        \"type\": \"EXPENSE\",\n",
    "        \"title\": \"Car\",\n",
    "        \"id\": 7,\n",
    "        \"user_id\": 1,\n",
    "        \"created_at\": \"2025-10-15T11:53:12.736118-04:00\",\n",
    "        \"updated_at\": \"2025-10-15T11:53:12.736118-04:00\"\n",
    "    },\n",
    "    {\n",
    "        \"amount\": \"2000.00\",\n",
    "        \"details\": null,\n",
    "        \"attachments\": null,\n",
    "        \"category\": \"Food\",\n",
    "        \"type\": \"EXPENSE\",\n",
    "        \"title\": \"Kitchen Cuisune\",\n",
    "        \"id\": 8,\n",
    "        \"user_id\": 1,\n",
    "        \"created_at\": \"2025-10-15T12:03:54.358263-04:00\",\n",
    "        \"updated_at\": \"2025-10-15T12:03:54.358263-04:00\"\n",
    "    },\n",
    "    {\n",
    "        \"amount\": \"2000.00\",\n",
    "        \"details\": \"I love spending time at Beans, sipping on a freshly brewed cup of coffee and relaxing in its cozy atmosphere. It’s my go-to spot for a good caffeine boost and a calm break.\",\n",
    "        \"attachments\": null,\n",
    "        \"category\": \"Beverages\",\n",
    "        \"type\": \"EXPENSE\",\n",
    "        \"title\": \"Coffee Beans\",\n",
    "        \"id\": 9,\n",
    "        \"user_id\": 1,\n",
    "        \"created_at\": \"2025-10-15T12:04:56.664883-04:00\",\n",
    "        \"updated_at\": \"2025-10-15T12:04:56.664883-04:00\"\n",
    "    },\n",
    "    {\n",
    "        \"amount\": \"5000.00\",\n",
    "        \"details\": null,\n",
    "        \"attachments\": null,\n",
    "        \"category\": \"Salary\",\n",
    "        \"type\": \"INCOME\",\n",
    "        \"title\": \"Lotus\",\n",
    "        \"id\": 10,\n",
    "        \"user_id\": 1,\n",
    "        \"created_at\": \"2025-10-15T14:21:12.912108-04:00\",\n",
    "        \"updated_at\": \"2025-10-15T14:21:12.912108-04:00\"\n",
    "    },\n",
    "    {\n",
    "        \"amount\": \"120000.00\",\n",
    "        \"details\": null,\n",
    "        \"attachments\": null,\n",
    "        \"category\": \"Salary\",\n",
    "        \"type\": \"INCOME\",\n",
    "        \"title\": \"Salary of June\",\n",
    "        \"id\": 11,\n",
    "        \"user_id\": 1,\n",
    "        \"created_at\": \"2025-10-15T18:20:43.863105-04:00\",\n",
    "        \"updated_at\": \"2025-10-15T18:20:43.863105-04:00\"\n",
    "    },\n",
    "    {\n",
    "        \"amount\": \"10000.00\",\n",
    "        \"details\": null,\n",
    "        \"attachments\": null,\n",
    "        \"category\": \"Salary Compensation\",\n",
    "        \"type\": \"INCOME\",\n",
    "        \"title\": \"Salary of Compensation\",\n",
    "        \"id\": 12,\n",
    "        \"user_id\": 1,\n",
    "        \"created_at\": \"2025-10-15T18:21:22.108698-04:00\",\n",
    "        \"updated_at\": \"2025-10-15T18:21:22.108698-04:00\"\n",
    "    },\n",
    "    {\n",
    "        \"amount\": \"40000.00\",\n",
    "        \"details\": null,\n",
    "        \"attachments\": null,\n",
    "        \"category\": \"Cat 1\",\n",
    "        \"type\": \"INCOME\",\n",
    "        \"title\": \"Test 1\",\n",
    "        \"id\": 13,\n",
    "        \"user_id\": 1,\n",
    "        \"created_at\": \"2025-10-15T18:35:35.132636-04:00\",\n",
    "        \"updated_at\": \"2025-10-15T18:35:35.132636-04:00\"\n",
    "    }\n",
    "]"
   ]
  }
 ],
 "metadata": {
  "kernelspec": {
   "display_name": "env",
   "language": "python",
   "name": "python3"
  },
  "language_info": {
   "codemirror_mode": {
    "name": "ipython",
    "version": 3
   },
   "file_extension": ".py",
   "mimetype": "text/x-python",
   "name": "python",
   "nbconvert_exporter": "python",
   "pygments_lexer": "ipython3",
   "version": "3.12.3"
  }
 },
 "nbformat": 4,
 "nbformat_minor": 5
}
