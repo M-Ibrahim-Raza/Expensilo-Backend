{
 "cells": [
  {
   "cell_type": "markdown",
   "id": "0bd97b37",
   "metadata": {},
   "source": [
    "### **Alembic Commands**"
   ]
  },
  {
   "cell_type": "markdown",
   "id": "d5e9a171",
   "metadata": {},
   "source": [
    "| **Command**                                    | **Purpose / Explanation**                                                            |\n",
    "| ---------------------------------------------- | ------------------------------------------------------------------------------------ |\n",
    "| `rm -rf alembic alembic.ini`                   | Delete the Alembic configuration and migration files                                 |\n",
    "| `alembic init alembic`                         | Initializes a new Alembic environment (creates `alembic/` folder and `alembic.ini`). |\n",
    "| `alembic revision -m \"message\"`                | Creates an empty new migration file with a custom message.                           |\n",
    "| `alembic revision --autogenerate -m \"message\"` | Auto-generates a migration file by comparing models with the database.               |\n",
    "| `alembic upgrade head`                         | Applies all new migrations (upgrades database to the latest version).                |\n",
    "| `alembic upgrade <revision>`                   | Upgrades database to a specific migration version.                                   |\n",
    "| `alembic downgrade -1`                         | Reverts (downgrades) the last migration.                                             |\n",
    "| `alembic downgrade <revision>`                 | Downgrades database to a specific revision.                                          |\n",
    "| `alembic current`                              | Shows the current migration version applied to the database.                         |\n",
    "| `alembic history`                              | Displays the full migration history (with revision IDs and messages).                |\n",
    "| `alembic heads`                                | Shows the latest (head) revision(s) available.                                       |\n",
    "| `alembic branches`                             | Lists branches (divergent revisions).                                                |\n",
    "| `alembic show <revision>`                      | Displays detailed information about a specific revision.                             |\n",
    "| `alembic stamp head`                           | Marks the database as up-to-date without running migrations.                         |\n",
    "| `alembic stamp <revision>`                     | Sets the current revision in the database manually.                                  |\n",
    "| `alembic merge <rev1> <rev2> -m \"message\"`     | Merges two branches of migrations into one.                                          |\n",
    "| `alembic edit <revision>`                      | Opens the specified migration script in your default editor.                         |\n",
    "| `alembic list_templates`                       | Lists available migration file templates.                                            |\n",
    "| `alembic upgrade +1`                           | Applies only the next single migration (not all up to head).                         |\n"
   ]
  }
 ],
 "metadata": {
  "language_info": {
   "name": "python"
  }
 },
 "nbformat": 4,
 "nbformat_minor": 5
}
