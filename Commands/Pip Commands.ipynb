{
 "cells": [
  {
   "cell_type": "markdown",
   "id": "880d5f03",
   "metadata": {},
   "source": [
    "### **Pip Commands**"
   ]
  },
  {
   "cell_type": "markdown",
   "id": "1b05fb84",
   "metadata": {},
   "source": [
    "#### **Comm**"
   ]
  },
  {
   "cell_type": "markdown",
   "id": "011a56ca",
   "metadata": {},
   "source": [
    "#### **Pip**"
   ]
  },
  {
   "cell_type": "markdown",
   "id": "8b0df414",
   "metadata": {},
   "source": [
    "| Purpose                             | Command                                           |\n",
    "| ----------------------------------- | ------------------------------------------------- |\n",
    "| Check pip version                   | `pip --version`                                   |\n",
    "| Upgrade pip itself                  | `pip install --upgrade pip`                       |\n",
    "| Show pip help                       | `pip help`                                        |\n",
    "| Check which Python pip is linked to | `which pip` (Linux/macOS) / `where pip` (Windows) |\n"
   ]
  },
  {
   "cell_type": "markdown",
   "id": "057a8f80",
   "metadata": {},
   "source": [
    "#### **Pip Requirements**"
   ]
  },
  {
   "cell_type": "markdown",
   "id": "23556b52",
   "metadata": {},
   "source": [
    "| **Command**                                                    | **Description**                                                                                             |\n",
    "| -------------------------------------------------------------- | ----------------------------------------------------------------------------------------------------------- |\n",
    "| `pip freeze > requirements.txt`                                | Exports all installed packages (with versions) from the current environment into a `requirements.txt` file. |\n",
    "| `pip install -r requirements.txt`                              | Installs all packages listed in the `requirements.txt` file.                                                |\n",
    "| `pip install --upgrade -r requirements.txt`                    | Upgrades all packages listed in `requirements.txt` to their latest versions.                                |\n",
    "| `pip check`                                                    | Verifies that installed packages have no conflicts or missing dependencies.                                 |\n",
    "| `pip list`                                                     | Lists all currently installed packages to compare with `requirements.txt`.                                  |\n",
    "| `pip freeze --local > requirements.txt`                        | Exports only locally installed packages, useful inside virtual environments.                                |\n",
    "| `pip install -r base.txt -r dev.txt`                           | Installs packages from multiple requirements files (e.g., for layered environments).                        |\n",
    "| `-r base.txt` *(inside file)*                                  | Includes another requirements file within the main one to reuse shared dependencies.                        |\n",
    "| `git+https://github.com/user/repo.git` *(inside file)*         | Installs a package directly from a Git repository or URL.                                                   |\n",
    "| `-e ./my_package` *(inside file)*                              | Installs a local package in editable mode for development.                                                  |\n",
    "| `fastapi[all]==0.115.0` *(inside file)*                        | Installs a package with optional dependencies specified in brackets.                                        |\n",
    "| `pip list --outdated`                                          | Lists installed packages that have newer versions available.                                                |\n",
    "| `pip freeze > dev-requirements.txt`                            | Exports development-specific dependencies into a separate file.                                             |\n",
    "| `poetry export -f requirements.txt --output requirements.txt`  | Exports dependencies from a Poetry-managed project into a `requirements.txt` file.                          |\n",
    "| `pip install -r requirements.txt --constraint constraints.txt` | Installs packages while applying version limits defined in another constraints file.                        |\n"
   ]
  },
  {
   "cell_type": "markdown",
   "id": "42c71826",
   "metadata": {},
   "source": [
    "#### **Pip Install**"
   ]
  },
  {
   "cell_type": "markdown",
   "id": "83b56047",
   "metadata": {},
   "source": [
    "| Purpose                         | Command                                            |\n",
    "| ------------------------------- | -------------------------------------------------- |\n",
    "| Install a package               | `pip install package_name`                         |\n",
    "| Install specific version        | `pip install package_name==version`                |\n",
    "| Install minimum version         | `pip install package_name>=version`                |\n",
    "| Install multiple packages       | `pip install package1 package2`                    |\n",
    "| Install from requirements file  | `pip install -r requirements.txt`                  |\n",
    "| Install from local directory    | `pip install .`                                    |\n",
    "| Install from Git repo           | `pip install git+https://github.com/user/repo.git` |\n",
    "| Install in user space (no sudo) | `pip install --user package_name`                  |\n"
   ]
  },
  {
   "cell_type": "markdown",
   "id": "ae5389ad",
   "metadata": {},
   "source": [
    "#### **Pip Uninstall**"
   ]
  },
  {
   "cell_type": "markdown",
   "id": "5ee16e70",
   "metadata": {},
   "source": [
    "| Purpose                        | Command                           |\n",
    "| ------------------------------ | --------------------------------- |\n",
    "| Uninstall a package            | `pip uninstall package_name`      |\n",
    "| Uninstall multiple packages    | `pip uninstall package1 package2` |\n",
    "| Force uninstall without prompt | `pip uninstall -y package_name`   |"
   ]
  },
  {
   "cell_type": "markdown",
   "id": "337e62c5",
   "metadata": {},
   "source": [
    "#### **Pip Upgrade**"
   ]
  },
  {
   "cell_type": "markdown",
   "id": "b5e1a7bc",
   "metadata": {},
   "source": [
    "| Purpose                                              | Command                                                                          |\n",
    "| ---------------------------------------------------- | -------------------------------------------------------------------------------- |\n",
    "| Upgrade specific package                             | `pip install --upgrade package_name`                                             |\n",
    "| Upgrade all outdated packages (Linux/Mac shell loop) | `pip list --outdated --format=freeze \\| cut -d= -f1 \\| xargs -n1 pip install -U` |"
   ]
  }
 ],
 "metadata": {
  "language_info": {
   "name": "python"
  }
 },
 "nbformat": 4,
 "nbformat_minor": 5
}
