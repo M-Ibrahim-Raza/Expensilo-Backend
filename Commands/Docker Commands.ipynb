{
 "cells": [
  {
   "cell_type": "markdown",
   "id": "880d5f03",
   "metadata": {},
   "source": [
    "### **Docker Commands**"
   ]
  },
  {
   "cell_type": "markdown",
   "id": "1b05fb84",
   "metadata": {},
   "source": [
    "#### **Docker**"
   ]
  },
  {
   "cell_type": "markdown",
   "id": "836e76eb",
   "metadata": {},
   "source": [
    "| Command            | Description                                  |\n",
    "| ------------------ | -------------------------------------------- |\n",
    "| `docker --version` | Show Docker version                          |\n",
    "| `docker version`   | Show detailed version info (client & server) |\n",
    "| `docker info`      | Display system-wide information              |\n",
    "| `docker help`      | Show help for Docker commands                |"
   ]
  },
  {
   "cell_type": "markdown",
   "id": "057a8f80",
   "metadata": {},
   "source": [
    "#### **Docker Cleanup**"
   ]
  },
  {
   "cell_type": "markdown",
   "id": "2b38c158",
   "metadata": {},
   "source": [
    "| Command                                   | Description                   |\n",
    "| ----------------------------------------- | ----------------------------- |\n",
    "| `docker stop $(docker ps -q)`             | Stop all running containers   |\n",
    "| `docker rm $(docker ps -aq)`              | Remove all containers         |\n",
    "| `docker rmi $(docker images -q)`          | Remove all images             |\n",
    "| `docker volume rm $(docker volume ls -q)` | Remove all volumes            |\n",
    "| `docker system prune -a --volumes`        | Full cleanup of Docker system |"
   ]
  },
  {
   "cell_type": "markdown",
   "id": "1793209a",
   "metadata": {},
   "source": [
    "#### **Docker Compose**"
   ]
  },
  {
   "cell_type": "markdown",
   "id": "42b485d0",
   "metadata": {},
   "source": [
    "| Command                                   | Description                                        |\n",
    "| ----------------------------------------- | -------------------------------------------------- |\n",
    "| `docker compose top`                      | Show running processes of services                 |\n",
    "| `docker compose up`                       | Start all services defined in `docker-compose.yml` |\n",
    "| `docker compose up -d`                    | Start in detached mode                             |\n",
    "| `docker compose down`                     | Stop and remove containers, networks, etc.         |\n",
    "| `docker compose down -v`                  | Remove containers **and** volumes                  |\n",
    "| `docker compose build`                    | Build or rebuild services                          |\n",
    "| `docker compose build --no-cache`         | Build without cache                                |\n",
    "| `docker compose ps`                       | List containers managed by Compose                 |\n",
    "| `docker compose logs`                     | View logs for all services                         |\n",
    "| `docker compose logs -f`                  | Follow logs live                                   |\n",
    "| `docker compose stop`                     | Stop services without removing them                |\n",
    "| `docker compose start`                    | Start existing stopped services                    |\n",
    "| `docker compose restart`                  | Restart services                                   |\n",
    "| `docker compose exec <service> <command>` | Run a command inside a service container           |\n",
    "| `docker compose config`                   | Validate and view the final Compose configuration  |\n",
    "| `docker compose rm`                       | Remove stopped service containers                  |\n",
    "| `docker compose pull`                     | Pull images for services                           |\n",
    "| `docker compose push`                     | Push built images to registry                      |\n"
   ]
  },
  {
   "cell_type": "markdown",
   "id": "44f924ce",
   "metadata": {},
   "source": [
    "#### **Docker Images**"
   ]
  },
  {
   "cell_type": "markdown",
   "id": "7ace9bb4",
   "metadata": {},
   "source": [
    "| Command                             | Description                                 |\n",
    "| ----------------------------------- | ------------------------------------------- |\n",
    "| `docker images`                     | List all local images                       |\n",
    "| `docker pull <image>`               | Download image from Docker Hub              |\n",
    "| `docker push <image>`               | Upload image to Docker Hub                  |\n",
    "| `docker build -t <name>:<tag> .`    | Build an image from a Dockerfile            |\n",
    "| `docker rmi <image>`                | Remove one or more images                   |\n",
    "| `docker image ls`                   | List images (same as `docker images`)       |\n",
    "| `docker image rm <image>`           | Remove an image                             |\n",
    "| `docker image prune`                | Remove unused images                        |\n",
    "| `docker image inspect <image>`      | Display detailed information about an image |\n",
    "| `docker save -o <file>.tar <image>` | Save image to a `.tar` archive              |\n",
    "| `docker load -i <file>.tar`         | Load image from a `.tar` archive            |\n",
    "| `docker tag <source> <target>`      | Tag an image with a new name                |\n"
   ]
  },
  {
   "cell_type": "markdown",
   "id": "d3b4abbb",
   "metadata": {},
   "source": [
    "#### **Docker Container**"
   ]
  },
  {
   "cell_type": "markdown",
   "id": "2a8fe9ee",
   "metadata": {},
   "source": [
    "| Command                                    | Description                                  |\n",
    "| ------------------------------------------ | -------------------------------------------- |\n",
    "| `docker ps`                                | List running containers                      |\n",
    "| `docker ps -a`                             | List all containers (including stopped)      |\n",
    "| `docker run <image>`                       | Create and start a new container             |\n",
    "| `docker run -d <image>`                    | Run in detached (background) mode            |\n",
    "| `docker run -it <image> bash`              | Run container interactively                  |\n",
    "| `docker exec -it <container> bash`         | Execute command inside running container     |\n",
    "| `docker start <container>`                 | Start a stopped container                    |\n",
    "| `docker stop <container>`                  | Stop a running container                     |\n",
    "| `docker restart <container>`               | Restart a container                          |\n",
    "| `docker kill <container>`                  | Kill (force stop) a container                |\n",
    "| `docker rm <container>`                    | Remove a stopped container                   |\n",
    "| `docker container prune`                   | Remove all stopped containers                |\n",
    "| `docker logs <container>`                  | View container logs                          |\n",
    "| `docker logs -f <container>`               | Follow container logs (live)                 |\n",
    "| `docker inspect <container>`               | Show detailed container info                 |\n",
    "| `docker top <container>`                   | Display running processes inside a container |\n",
    "| `docker stats`                             | Show resource usage (CPU, memory, etc.)      |\n",
    "| `docker rename <old> <new>`                | Rename a container                           |\n",
    "| `docker cp <container>:<path> <host_path>` | Copy files from container to host            |\n",
    "| `docker cp <host_path> <container>:<path>` | Copy files from host to container            |\n"
   ]
  },
  {
   "cell_type": "markdown",
   "id": "7aeeb42a",
   "metadata": {},
   "source": [
    "#### **Docker Volume**"
   ]
  },
  {
   "cell_type": "markdown",
   "id": "fb40696d",
   "metadata": {},
   "source": [
    "| Command                        | Description               |\n",
    "| ------------------------------ | ------------------------- |\n",
    "| `docker volume create <name>`  | Create a new volume       |\n",
    "| `docker volume ls`             | List all volumes          |\n",
    "| `docker volume inspect <name>` | Show detailed volume info |\n",
    "| `docker volume rm <name>`      | Remove a volume           |\n",
    "| `docker volume prune`          | Remove all unused volumes |\n"
   ]
  },
  {
   "cell_type": "markdown",
   "id": "a634525b",
   "metadata": {},
   "source": [
    "#### **Docker Network**"
   ]
  },
  {
   "cell_type": "markdown",
   "id": "6a143742",
   "metadata": {},
   "source": [
    "| Command                                           | Description                         |\n",
    "| ------------------------------------------------- | ----------------------------------- |\n",
    "| `docker network create <name>`                    | Create a new network                |\n",
    "| `docker network ls`                               | List all networks                   |\n",
    "| `docker network inspect <name>`                   | Show details of a network           |\n",
    "| `docker network connect <network> <container>`    | Connect container to a network      |\n",
    "| `docker network disconnect <network> <container>` | Disconnect container from a network |\n",
    "| `docker network rm <name>`                        | Remove a network                    |\n",
    "| `docker network prune`                            | Remove all unused networks          |\n"
   ]
  },
  {
   "cell_type": "markdown",
   "id": "9b005011",
   "metadata": {},
   "source": [
    "#### **Docker System**"
   ]
  },
  {
   "cell_type": "markdown",
   "id": "77e1a0e4",
   "metadata": {},
   "source": [
    "| Command                  | Description                                                |\n",
    "| ------------------------ | ---------------------------------------------------------- |\n",
    "| `docker system df`       | Show disk usage                                            |\n",
    "| `docker system prune`    | Remove unused data (containers, networks, images, volumes) |\n",
    "| `docker system prune -a` | Remove **all** unused images (not just dangling)           |\n",
    "| `docker events`          | Get real-time events from the Docker daemon                |\n",
    "| `docker stats`           | Monitor running containers                                 |\n",
    "| `docker history <image>` | Show image layer history                                   |\n"
   ]
  }
 ],
 "metadata": {
  "language_info": {
   "name": "python"
  }
 },
 "nbformat": 4,
 "nbformat_minor": 5
}
